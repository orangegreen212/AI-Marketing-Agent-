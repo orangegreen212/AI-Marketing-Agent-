{
  "metadata": {
    "kernel_info": {
      "name": "python3"
    },
    "language_info": {
      "name": "python",
      "version": "3.12"
    },
    "colab": {
      "provenance": [],
      "include_colab_link": true
    }
  },
  "nbformat": 4,
  "nbformat_minor": 0,
  "cells": [
    {
      "cell_type": "markdown",
      "metadata": {
        "id": "view-in-github",
        "colab_type": "text"
      },
      "source": [
        "<a href=\"https://colab.research.google.com/github/orangegreen212/AI-Marketing-Agent-/blob/main/AB_test_fast_edition_ipynb%22.ipynb\" target=\"_parent\"><img src=\"https://colab.research.google.com/assets/colab-badge.svg\" alt=\"Open In Colab\"/></a>"
      ]
    },
    {
      "cell_type": "code",
      "execution_count": null,
      "metadata": {
        "id": "jH7Mnplqfoqf",
        "outputId": "5ca428f6-216a-4579-f9a4-ace035361f90"
      },
      "source": [
        "import pandas as pd\n",
        "\n",
        "# Load the dataset\n",
        "df = pd.read_csv('ab_proportions.csv')\n",
        "df.head()"
      ],
      "outputs": [
        {
          "output_type": "execute_result",
          "metadata": {},
          "data": {
            "text/plain": "                                 user_id group  converted\n0  198i8h5d184ax7bceafa                      A          0\n1  198262c2be41x80c4a0d                      B          0\n2  1989did7d57ex7dc46e72                     B          1\n3  1986252b0077x7f34ffaa                     A          0\n4  1985bi134399x599d1286                     B          1",
            "text/html": "<div>\n<style scoped>\n    .dataframe tbody tr th:only-of-type {\n        vertical-align: middle;\n    }\n\n    .dataframe tbody tr th {\n        vertical-align: top;\n    }\n\n    .dataframe thead th {\n        text-align: right;\n    }\n</style>\n<table border=\"1\" class=\"dataframe\">\n  <thead>\n    <tr style=\"text-align: right;\">\n      <th></th>\n      <th>user_id</th>\n      <th>group</th>\n      <th>converted</th>\n    </tr>\n  </thead>\n  <tbody>\n    <tr>\n      <th>0</th>\n      <td>198i8h5d184ax7bceafa</td>\n      <td>A</td>\n      <td>0</td>\n    </tr>\n    <tr>\n      <th>1</th>\n      <td>198262c2be41x80c4a0d</td>\n      <td>B</td>\n      <td>0</td>\n    </tr>\n    <tr>\n      <th>2</th>\n      <td>1989did7d57ex7dc46e72</td>\n      <td>B</td>\n      <td>1</td>\n    </tr>\n    <tr>\n      <th>3</th>\n      <td>1986252b0077x7f34ffaa</td>\n      <td>A</td>\n      <td>0</td>\n    </tr>\n    <tr>\n      <th>4</th>\n      <td>1985bi134399x599d1286</td>\n      <td>B</td>\n      <td>1</td>\n    </tr>\n  </tbody>\n</table>\n</div>"
          },
          "execution_count": 1
        }
      ]
    },
    {
      "cell_type": "code",
      "execution_count": null,
      "metadata": {
        "id": "1TpCYAZtfoqk",
        "outputId": "5b10222d-18da-4347-e7f8-af65dd94cf9c"
      },
      "source": [
        "# Check the dataset info\n",
        "print(\"Dataset shape:\", df.shape)\n",
        "print(\"\\nGroup distribution:\")\n",
        "print(df['group'].value_counts())\n",
        "print(\"\\nConversion rates by group:\")\n",
        "print(df.groupby('group')['converted'].value_counts(normalize=True))\n",
        "print(\"\\nOverall conversion rate:\")\n",
        "print(df['converted'].value_counts(normalize=True))"
      ],
      "outputs": [
        {
          "output_type": "stream",
          "name": "stdout",
          "text": "Dataset shape: (6640, 3)\n\nGroup distribution:\ngroup\nA    3338\nB    3302\nName: count, dtype: int64\n\nConversion rates by group:\ngroup  converted\nA      0            0.773817\n       1            0.226183\nB      0            0.756511\n       1            0.243489\nName: proportion, dtype: float64\n\nOverall conversion rate:\nconverted\n0    0.765211\n1    0.234789\nName: proportion, dtype: float64\n"
        }
      ]
    },
    {
      "cell_type": "code",
      "execution_count": null,
      "metadata": {
        "id": "jznYHReUfoqn",
        "outputId": "79450610-aa6f-4b28-9970-97570444f06a"
      },
      "source": [
        "from scipy.stats import chi2_contingency\n",
        "import numpy as np\n",
        "\n",
        "# Create a contingency table\n",
        "contingency_table = pd.crosstab(df['group'], df['converted'])\n",
        "print(\"Contingency Table:\")\n",
        "print(contingency_table)\n",
        "\n",
        "# Perform chi-square test\n",
        "chi2, p_value, dof, expected = chi2_contingency(contingency_table)\n",
        "print(f\"\\nChi-square test results:\")\n",
        "print(f\"Chi-square statistic: {chi2:.4f}\")\n",
        "print(f\"P-value: {p_value:.4f}\")\n",
        "\n",
        "# Calculate conversion rates\n",
        "conversion_rates = df.groupby('group')['converted'].mean()\n",
        "print(f\"\\nConversion rates:\")\n",
        "print(f\"Group A: {conversion_rates['A']:.4f} ({conversion_rates['A']*100:.2f}%)\")\n",
        "print(f\"Group B: {conversion_rates['B']:.4f} ({conversion_rates['B']*100:.2f}%)\")\n",
        "\n",
        "# Calculate the difference\n",
        "diff = conversion_rates['B'] - conversion_rates['A']\n",
        "print(f\"\\nDifference (B - A): {diff:.4f} ({diff*100:.2f} percentage points)\")"
      ],
      "outputs": [
        {
          "output_type": "stream",
          "name": "stdout",
          "text": "Contingency Table:\nconverted     0    1\ngroup               \nA          2583  755\nB          2498  804\n\nChi-square test results:\nChi-square statistic: 2.6715\nP-value: 0.1022\n\nConversion rates:\nGroup A: 0.2262 (22.62%)\nGroup B: 0.2435 (24.35%)\n\nDifference (B - A): 0.0173 (1.73 percentage points)\n"
        }
      ]
    },
    {
      "cell_type": "code",
      "execution_count": null,
      "metadata": {
        "id": "msz9DNNifoqq",
        "outputId": "aae4f556-7c20-4a16-c90c-88a26a6a63e8"
      },
      "source": [
        "import matplotlib.pyplot as plt\n",
        "import seaborn as sns\n",
        "\n",
        "# Set up the plotting style\n",
        "plt.style.use('seaborn-v0_8')\n",
        "sns.set_palette(\"pastel\")\n",
        "\n",
        "# Create a bar chart of conversion rates by group\n",
        "conversion_data = df.groupby('group')['converted'].mean()\n",
        "groups = conversion_data.index\n",
        "rates = conversion_data.values\n",
        "\n",
        "plt.figure(figsize=(8, 6))\n",
        "bars = plt.bar(groups, rates*100, color=['#3498db', '#e74c3c'])\n",
        "plt.ylabel('Conversion Rate (%)')\n",
        "plt.title('A/B Test Results: Conversion Rates by Group')\n",
        "plt.ylim(0, max(rates*100) + 5)\n",
        "\n",
        "# Add value labels on bars\n",
        "for bar, rate in zip(bars, rates*100):\n",
        "    plt.text(bar.get_x() + bar.get_width()/2, bar.get_height() + 0.5,\n",
        "             f'{rate:.2f}%', ha='center', va='bottom', fontweight='bold')\n",
        "\n",
        "plt.grid(axis='y', alpha=0.3)\n",
        "plt.tight_layout()\n",
        "plt.show()"
      ],
      "outputs": [
        {
          "output_type": "display_data",
          "metadata": {},
          "data": {
            "text/plain": "<Figure size 800x600 with 1 Axes>",
            "image/png": "[encoded data removed]"
          }
        }
      ]
    },
    {
      "cell_type": "markdown",
      "metadata": {
        "id": "ECoOsVKWfoqr"
      },
      "source": [
        "\n",
        "\n",
        "# A/B Testing Report\n",
        "\n",
        "## Objective\n",
        "We tested two different versions (A and B) of a webpage/app feature to determine which one performs better in terms of user conversion rate. The goal was to improve the overall conversion rate by identifying which version resonates better with users.\n",
        "\n",
        "## Test Setup\n",
        "- **Version A (Control):** The original version of the feature/webpage\n",
        "- **Version B (Treatment):** The new variation with potential improvements\n",
        "- **Sample Size:** 6,640 users total (3,338 in Group A, 3,302 in Group B)\n",
        "- **Test Duration:** Not specified in the dataset\n",
        "- **Traffic Split:** Approximately 50/50 between the two groups\n",
        "\n",
        "## Metrics Tracked\n",
        "- **Primary Metric:** Conversion rate (percentage of users who completed the desired action)\n",
        "- **Sample Size:** Total number of users in each group\n",
        "- **Absolute Numbers:** Count of conversions and non-conversions per group\n",
        "\n",
        "## Results\n",
        "| Group | Total Users | Conversions | Conversion Rate |\n",
        "|-------|-------------|-------------|----------------|\n",
        "| A     | 3,338       | 755         | 22.62%         |\n",
        "| B     | 3,302       | 804         | 24.35%         |\n",
        "| **Difference** | - | **49 more** | **+1.73%** |\n",
        "\n",
        "Group B has a 1.73 percentage point higher conversion rate than Group A, representing a 7.65% relative improvement (24.35% vs 22.62%).\n",
        "\n",
        "## Statistical Significance\n",
        "- Chi-square test p-value: 0.1022\n",
        "- The p-value is greater than the standard alpha level of 0.05, indicating that the difference in conversion rates is **not statistically significant** at the conventional level.\n",
        "- With approximately 3,300 users per group, we had substantial sample size, but the small difference in conversion rates falls within the range of what might be expected from random variation.\n",
        "\n",
        "## Insights & Takeaways\n",
        "1. **Positive Direction:** Version B showed a higher conversion rate than Version A (24.35% vs 22.62%), which is encouraging.\n",
        "\n",
        "2. **Magnitude of Improvement:** The absolute improvement was 1.73 percentage points, which could have meaningful business impact if applied to a large user base.\n",
        "\n",
        "3. **Statistical vs Practical Significance:** While the result is not statistically significant, the consistent direction of improvement suggests Version B may have merit. The lack of statistical significance might be due to:\n",
        "   - Small effect size (the actual difference is modest)\n",
        "   - Natural variation in user behavior\n",
        "   - Need for a longer testing period\n",
        "\n",
        "4. **User Response:** Both versions had similar engagement levels, with conversion rates hovering around 23-24%.\n",
        "\n",
        "## Final Recommendation\n",
        "**Recommendation:** Despite the lack of statistical significance, I would recommend implementing **Version B** based on the consistent improvement in conversion rate. While the statistical test doesn't confirm the difference is beyond random chance, there's no evidence that Version B performs worse, and the 1.73% point improvement could translate to meaningful business gains.\n",
        "\n",
        "**Next Tests:**\n",
        "1. Extend the test duration to gather more data and improve statistical power\n",
        "2. Test more substantial variations with potentially larger impact on conversion rates\n",
        "3. Segment the analysis by user demographics or behaviors to see if Version B performs better for specific user groups\n",
        "4. Consider testing additional elements like call-to-action buttons, images, or copy variations\n",
        "\n",
        "The key is to balance data-driven decision making with practical business considerations. Even small improvements in conversion rates can have large impacts on revenue when scaled across a substantial user base.</div>"
      ]
    }
  ]
}